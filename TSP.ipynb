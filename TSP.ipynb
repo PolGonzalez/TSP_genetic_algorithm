{
 "cells": [
  {
   "cell_type": "code",
   "execution_count": 1,
   "id": "d150fd92",
   "metadata": {},
   "outputs": [],
   "source": [
    "#Libraries\n",
    "\n",
    "import geopy as geo\n",
    "from geopy.geocoders import Nominatim\n",
    "from geopy import distance\n",
    "import random\n",
    "from amplpy import AMPL\n",
    "import pandas as pd"
   ]
  },
  {
   "cell_type": "code",
   "execution_count": 2,
   "id": "c2572786",
   "metadata": {
    "scrolled": true
   },
   "outputs": [],
   "source": [
    "#We are looking to find the TSP between this cities \n",
    "\n",
    "geolocator = Nominatim(user_agent=\"TSP\")\n",
    "\n",
    "n = 15\n",
    "cities = [\"barcelona\",\"paris\",\"tokyo\",\"new york\",\"delhi\",\"singapore\",\n",
    "          \"adelaide\",\"buenos aires\",\"dakar\",\"helsinki\",\"kabul\",\"lima\",\"miami\"\n",
    "          ,\"vancouver\",\"guayaquil\"]\n",
    "\n",
    "locations = [geolocator.geocode(city) for city in cities]    \n",
    "\n",
    "#generate matrix of distances between cities (cost of each edge on our complete graph)    \n",
    "dist = [[distance.distance((i.latitude,i.longitude),(j.latitude,j.longitude)).km for i in locations] for j in locations]\n"
   ]
  },
  {
   "cell_type": "code",
   "execution_count": 3,
   "id": "13b2a26b",
   "metadata": {},
   "outputs": [],
   "source": [
    "#path class containing all the necessary \n",
    "class Solution:\n",
    "    path = []\n",
    "    def __init__(self,path):\n",
    "        self.path = path\n",
    "        \n",
    "    def tsp_cost(self):\n",
    "        cost = 0\n",
    "        for i in range(0,n):\n",
    "            cost = cost + dist[self.path[i-1]][self.path[i]] \n",
    "        return cost\n",
    "    def two_swap(self): \n",
    "        copy = self.path.copy()\n",
    "        i, j = random.sample(range(0,n), 2)\n",
    "        copy[i],copy[j] = copy[j],copy[i]\n",
    "        return Solution(copy)\n",
    "    def three_cycle(self):\n",
    "        i, j, k = random.sample(range(0,n),3)\n",
    "        copy = self.path.copy()\n",
    "        copy[i],copy[j],copy[k] = copy[j],copy[k],copy[i]\n",
    "        return Solution(copy)\n",
    "    def twotwo_swap(self):\n",
    "        copy = self.path.copy()\n",
    "        i, j ,k ,l= random.sample(range(0,n), 4)\n",
    "        copy[i],copy[j] = copy[j],copy[i]\n",
    "        copy[k],copy[l] = copy[l],copy[k]\n",
    "        return Solution(copy)"
   ]
  },
  {
   "cell_type": "code",
   "execution_count": 4,
   "id": "26f463c7",
   "metadata": {},
   "outputs": [
    {
     "name": "stdout",
     "output_type": "stream",
     "text": [
      "[77929.31389626306, 78583.35937416987, 68733.42050013223, 75123.00722560791, 65889.16324545049, 62989.27133455657, 62989.271334556586, 65994.31925152114, 70407.61853179106, 75948.93605057814, 69402.40705793686, 75093.87495088603, 68918.2185306606, 62186.891507490946, 75896.2535642983]\n"
     ]
    }
   ],
   "source": [
    "\n",
    "#Nearest neighbour implementation\n",
    "\n",
    "#initialization\n",
    "population = []\n",
    "\n",
    "for i in range(0,n):\n",
    "    initial_node = i\n",
    "    path = [initial_node]\n",
    "    not_visited = [j for j in range(0,n)]\n",
    "    not_visited.remove(initial_node)\n",
    "    #we select the closest node to the latest that we have visited until there are no more nodes\n",
    "    actual = initial_node\n",
    "    while len(path) < len(cities):\n",
    "        potential = [dist[actual][index] for index in not_visited]\n",
    "        actual = dist[actual].index(min(potential))\n",
    "        path.append(actual)\n",
    "        not_visited.remove(actual)\n",
    "    population.append(Solution(path))\n",
    "score = [route.tsp_cost() for route in population]\n",
    "print(score)"
   ]
  },
  {
   "cell_type": "code",
   "execution_count": 5,
   "id": "7493b398",
   "metadata": {
    "scrolled": true
   },
   "outputs": [
    {
     "name": "stdout",
     "output_type": "stream",
     "text": [
      "0\n",
      "62186.891507490946\n",
      "1\n",
      "62186.891507490946\n",
      "2\n",
      "62186.891507490946\n",
      "3\n",
      "62186.891507490946\n",
      "4\n",
      "62186.891507490946\n",
      "5\n",
      "62186.891507490946\n",
      "6\n",
      "62186.891507490946\n",
      "7\n",
      "62186.891507490946\n",
      "8\n",
      "62186.891507490946\n",
      "9\n",
      "62186.891507490946\n",
      "<__main__.Solution object at 0x00000261E7D9D7D0>\n",
      "62186.891507490946\n"
     ]
    },
    {
     "ename": "TypeError",
     "evalue": "'Solution' object is not iterable",
     "output_type": "error",
     "traceback": [
      "\u001b[1;31m---------------------------------------------------------------------------\u001b[0m",
      "\u001b[1;31mTypeError\u001b[0m                                 Traceback (most recent call last)",
      "Cell \u001b[1;32mIn[5], line 40\u001b[0m\n\u001b[0;32m     38\u001b[0m \u001b[38;5;28mprint\u001b[39m(best_path)\n\u001b[0;32m     39\u001b[0m \u001b[38;5;28mprint\u001b[39m(best_score)\n\u001b[1;32m---> 40\u001b[0m \u001b[38;5;28mprint\u001b[39m([cities[i] \u001b[38;5;28;01mfor\u001b[39;00m i \u001b[38;5;129;01min\u001b[39;00m best_path])\n",
      "\u001b[1;31mTypeError\u001b[0m: 'Solution' object is not iterable"
     ]
    }
   ],
   "source": [
    "#improving our initial solution using a genetic algorithm\n",
    "\n",
    "#INITIAL POPULATION (10 1-SWAP 10 3-CYCLE FROM OG and pick the best 10 ones) \n",
    "initial_population_2swap = [path.two_swap() for k in range(10) for path in population]\n",
    "initial_population_3cycle = [path.three_cycle() for l in range(10) for path in population]\n",
    "n_generations = 10\n",
    "population = population + initial_population_2swap +  initial_population_3cycle\n",
    "score = [route.tsp_cost() for route in population]\n",
    "\n",
    "#variables to keep track of the best found solution\n",
    "best_score, best_path_idx = min((ite,value) for (value,ite) in enumerate(score))\n",
    "best_path = population[best_path_idx]\n",
    "\n",
    "\n",
    "for i in range(0,n_generations):\n",
    "    #create new generation\n",
    "    print(i)\n",
    "    print(best_score)\n",
    "    population_2swap = [path.two_swap() for k in range(5) for path in population]\n",
    "    population_3cycle = [path.three_cycle() for k in range(5) for path in population]\n",
    "    population_22swap = [path.twotwo_swap() for k in range(5) for path in population]\n",
    "    new_generation = population + population_2swap + population_3cycle + population_22swap\n",
    "    \n",
    "    #check if a better solution has been found\n",
    "    score = [path.tsp_cost() for path in new_generation]\n",
    "    if min(score) < best_score:\n",
    "        best_score, best_path_idx = min((ite,value) for (value,ite) in enumerate(score))\n",
    "        best_path = new_generation[best_path_idx]\n",
    "        \n",
    "    #keep best elements   \n",
    "    population = []\n",
    "    for j in range(0,50):\n",
    "        candidate, candidate_path_idx = min((ite,value) for (value,ite) in enumerate(score))\n",
    "        population.append(new_generation[candidate_path_idx])\n",
    "        score.remove(candidate)\n",
    "        \n",
    "    \n",
    "print(best_path)\n",
    "print(best_score)\n",
    "print([cities[i] for i in best_path])"
   ]
  },
  {
   "cell_type": "code",
   "execution_count": 8,
   "id": "4b97daf8",
   "metadata": {},
   "outputs": [],
   "source": [
    "##Upper bound lr ampl use\n",
    "\n",
    "def ampl_solve_lr(n,dist,model):\n",
    "    #generates a \"Kcluster.dat\" with whe data for the LP problem for AMPL to solve\n",
    "    output = open(\"TSP.dat\", \"w\")\n",
    "    output.write('param n:= '+ str(n) + ';')\n",
    "    output.write('\\n')\n",
    "    output.write('param dist: ')\n",
    "    for i in range(n):output.write(str(i + 1) + ' ')\n",
    "    output.write(':=')\n",
    "    output.write('\\n')\n",
    "    for i in range(n):\n",
    "        output.write(str(i + 1) + ' ')\n",
    "        for j in range(n):\n",
    "            output.write(str(dist[i][j]))\n",
    "            if(j != n-1):output.write(' ')\n",
    "        if(i != n-1):output.write('\\n')\n",
    "    output.write(';')\n",
    "    output.write('\\n')\n",
    "    output.close()\n",
    "    ampl = AMPL()\n",
    "    ampl.read(model)\n",
    "    ampl.read_data(\"TSP.dat\")\n",
    "    ampl.option[\"solver\"] = \"highs\"\n",
    "    ampl.solve()\n",
    "    solution_input = ampl.get_variable(\"edge\").get_values().to_pandas().values.tolist()\n",
    "    sol = [[0 for _ in range(n)] for _ in range(n)]\n",
    "    for i in range(n): \n",
    "        for j in range(n): \n",
    "            sol[i][j] = solution_input[i*n + j][0]      \n",
    "    return sol"
   ]
  },
  {
   "cell_type": "code",
   "execution_count": 18,
   "id": "7862f644",
   "metadata": {},
   "outputs": [],
   "source": [
    "#SEC identification heuristic method\n",
    "def SEC_identification_heuristic(graph,n):\n",
    "    ite = [i for i in range(n)]\n",
    "    sec_elements = [[i] for i in range(n)]\n",
    "    while(True):\n",
    "        \n",
    "        for i in ite:\n",
    "            for j in ite:\n",
    "                if graph[i][j] > 1:\n",
    "                    if (len(sec_elements[i]) + len(sec_elements[j]) < n/2): return(\"A SEC has been found compromising nodes\" + str(sec_elements[i]) +\" and \" + str(sec_elements[j]))\n",
    "                    return(\"No SEC has been found by the algorithm\")\n",
    "                \n",
    "                \n",
    "        ite_finished = False\n",
    "        for i in ite:\n",
    "            for j in ite: \n",
    "                if graph[i][j] == 1 and not ite_finished:\n",
    "                    ite.remove(j)\n",
    "                    sec_elements[i].append(j)\n",
    "                    for k in ite: \n",
    "                        if(k != i and k != j): \n",
    "                            graph[i][k],graph[k][i] = graph[i][k] + graph[j][k],graph[k][i] + graph[k][j]\n",
    "                            ite_finished = True\n",
    "                        \n",
    "                        "
   ]
  },
  {
   "cell_type": "code",
   "execution_count": 19,
   "id": "c286bb70",
   "metadata": {},
   "outputs": [
    {
     "name": "stdout",
     "output_type": "stream",
     "text": [
      "HiGHS 1.6.0:HiGHS 1.6.0: optimal solution; objective 55198.62519\n",
      "18 simplex iterations\n",
      "0 barrier iterations\n",
      " \n"
     ]
    },
    {
     "data": {
      "text/plain": [
       "'A SEC has been found compromising nodes[0, 8] and [1]'"
      ]
     },
     "execution_count": 19,
     "metadata": {},
     "output_type": "execute_result"
    }
   ],
   "source": [
    "#solving lr\n",
    "lr_sol = ampl_solve_lr(n,dist,\"TSP_relaxed.mod\")\n",
    "SEC_identification_heuristic(lr_sol.copy(),n)\n",
    "\n"
   ]
  },
  {
   "cell_type": "code",
   "execution_count": 20,
   "id": "df1637a5",
   "metadata": {},
   "outputs": [
    {
     "name": "stdout",
     "output_type": "stream",
     "text": [
      "HiGHS 1.6.0:HiGHS 1.6.0: optimal solution; objective 55556.56531\n",
      "25 simplex iterations\n",
      "0 barrier iterations\n",
      " \n"
     ]
    },
    {
     "data": {
      "text/plain": [
       "'A SEC has been found compromising nodes[0, 8, 1] and [9]'"
      ]
     },
     "execution_count": 20,
     "metadata": {},
     "output_type": "execute_result"
    }
   ],
   "source": [
    "lr_sec1 = ampl_solve_lr(n,dist,\"TSP_sec1.mod\")\n",
    "SEC_identification_heuristic(lr_sec1.copy(),n)\n"
   ]
  },
  {
   "cell_type": "code",
   "execution_count": 21,
   "id": "35b7496c",
   "metadata": {},
   "outputs": [
    {
     "name": "stdout",
     "output_type": "stream",
     "text": [
      "HiGHS 1.6.0:HiGHS 1.6.0: optimal solution; objective 56002.99088\n",
      "26 simplex iterations\n",
      "0 barrier iterations\n",
      " \n"
     ]
    },
    {
     "data": {
      "text/plain": [
       "'A SEC has been found compromising nodes[2, 6] and [5]'"
      ]
     },
     "execution_count": 21,
     "metadata": {},
     "output_type": "execute_result"
    }
   ],
   "source": [
    "\n",
    "lr_sec2 = ampl_solve_lr(n,dist,\"TSP_sec2.mod\")\n",
    "SEC_identification_heuristic(lr_sec2.copy(),n)"
   ]
  },
  {
   "cell_type": "code",
   "execution_count": 22,
   "id": "f06cc709",
   "metadata": {},
   "outputs": [
    {
     "name": "stdout",
     "output_type": "stream",
     "text": [
      "HiGHS 1.6.0:HiGHS 1.6.0: optimal solution; objective 56442.74234\n",
      "22 simplex iterations\n",
      "0 barrier iterations\n",
      " \n"
     ]
    },
    {
     "data": {
      "text/plain": [
       "'No SEC has been found by the algorithm'"
      ]
     },
     "execution_count": 22,
     "metadata": {},
     "output_type": "execute_result"
    }
   ],
   "source": [
    "lr_sec3 = ampl_solve_lr(n,dist,\"TSP_sec3.mod\")\n",
    "SEC_identification_heuristic(lr_sec3.copy(),n)"
   ]
  }
 ],
 "metadata": {
  "kernelspec": {
   "display_name": "Python 3 (ipykernel)",
   "language": "python",
   "name": "python3"
  },
  "language_info": {
   "codemirror_mode": {
    "name": "ipython",
    "version": 3
   },
   "file_extension": ".py",
   "mimetype": "text/x-python",
   "name": "python",
   "nbconvert_exporter": "python",
   "pygments_lexer": "ipython3",
   "version": "3.11.5"
  }
 },
 "nbformat": 4,
 "nbformat_minor": 5
}
